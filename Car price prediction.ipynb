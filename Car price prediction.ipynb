{
 "cells": [
  {
   "cell_type": "markdown",
   "id": "27010cf8",
   "metadata": {},
   "source": [
    "<center><h1><u>Car Price Prediction</u></h1></center>"
   ]
  },
  {
   "cell_type": "markdown",
   "id": "ffe2ddd6",
   "metadata": {},
   "source": [
    "## Problem statement\n",
    "\n",
    "- Predict the selling price of the used car using given data.\n",
    "\n",
    "## Machine Learning problem\n",
    " - Supervised Learning\n",
    " - Regression\n",
    " - Metrics : RMSE, MAE"
   ]
  },
  {
   "cell_type": "markdown",
   "id": "dc89c09b",
   "metadata": {},
   "source": [
    "## About dataset\n",
    "This dataset contains the information of used cars.<br>\n",
    "Source : https://www.kaggle.com/nehalbirla/vehicle-dataset-from-cardekho\n",
    "\n",
    "### Attributes\n",
    "   - <b>Car_Name</b> : Name of the cars<br><br>\n",
    "   - <b>Year</b> : Year of the car when it was bought<br><br>\n",
    "   - <b>Selling_price</b> : Price at which the car is being sold. (Target)<br><br>\n",
    "   - <b>Present_price</b> : Current ex-showroom price of the car.<br><br>\n",
    "   - <b>Kms_Driven</b> : Number of Kilometres the car is driven<br><br>\n",
    "   - <b>Fuel_Type</b> : Fuel type of car (petrol / diesel / CNG / LPG / electric)<br><br>\n",
    "   - <b>Seller_Type</b> : Tells if a Seller is Individual or a Dealer<br><br>\n",
    "   - <b>Transmission</b> : Gear transmission of the car (Automatic/Manual)<br><br>\n",
    "   - <b>Owner</b> : Number of previous owners of the car."
   ]
  },
  {
   "cell_type": "markdown",
   "id": "27025e7b",
   "metadata": {},
   "source": [
    "## Libraries and utility functions"
   ]
  },
  {
   "cell_type": "code",
   "execution_count": 1,
   "id": "877457f1",
   "metadata": {},
   "outputs": [],
   "source": [
    "import pandas as pd\n",
    "import numpy as np\n",
    "import matplotlib.pyplot as plt\n",
    "import seaborn as sns\n",
    "\n",
    "from sklearn.model_selection import train_test_split, KFold, RandomizedSearchCV\n",
    "\n",
    "from feature_engine.encoding import OneHotEncoder\n",
    "\n",
    "from sklearn.pipeline import Pipeline\n",
    "from sklearn.base import BaseEstimator\n",
    "from feature_engine.wrappers import SklearnTransformerWrapper\n",
    "from sklearn.preprocessing import MinMaxScaler\n",
    "\n",
    "from sklearn.tree import DecisionTreeRegressor\n",
    "from sklearn.ensemble import RandomForestRegressor\n",
    "from sklearn.ensemble import ExtraTreesRegressor\n",
    "\n",
    "from sklearn.metrics import mean_absolute_error, mean_squared_error\n",
    "import pickle\n",
    "\n",
    "import warnings\n",
    "warnings.filterwarnings('ignore')\n"
   ]
  },
  {
   "cell_type": "code",
   "execution_count": 2,
   "id": "709031cc",
   "metadata": {},
   "outputs": [],
   "source": [
    "\n",
    "# utility functions\n",
    "\n",
    "#get validation rmse and mae values\n",
    "def get_scores(model, X_train, X_test, y_train, y_test):\n",
    "    model.fit(X_train, y_train)\n",
    "    preds = model.predict(X_test)\n",
    "    return np.sqrt(mean_squared_error(y_test, preds))\n",
    "\n",
    "#add NO of years attribute\n",
    "class AtributeAdder(BaseEstimator):\n",
    "    def fit(self, X, y=None):\n",
    "        return self\n",
    "    \n",
    "    def transform(self, X, y=None):\n",
    "        temp = X.copy()\n",
    "        temp.loc[:, 'No_of_Yrs'] = 2021 - data.Year\n",
    "        temp.drop('Year', axis=1, inplace=True)\n",
    "        return temp\n",
    "    \n",
    "# K-fold cross validation\n",
    "def run_clf_kfold(regressor, X_train, y_train, k):\n",
    "    l=[]\n",
    "    folds = KFold(n_splits = k)\n",
    "    for i, (train_idx, val_idx) in enumerate(folds.split(X_train, y_train)):\n",
    "        print(f'\\n------------- Fold {i + 1} -------------')\n",
    "        ###### Get train, and valid sets ######\n",
    "        ### Training Set\n",
    "        X_trn, y_trn = X_train.iloc[train_idx], y_train.iloc[train_idx]\n",
    "        ### Validation Set\n",
    "        X_val, y_val = X_train.iloc[val_idx], y_train.iloc[val_idx]\n",
    "        ## get rmse\n",
    "        rmse = get_scores(regressor, X_trn, X_val, y_trn, y_val)\n",
    "        print(f'\\nRMSE for validation set is {rmse}')\n",
    "        l.append(rmse)\n",
    "    print(\"\\nMean Rmse :\", sum(l)/k)"
   ]
  },
  {
   "cell_type": "code",
   "execution_count": 3,
   "id": "0ae2b180",
   "metadata": {},
   "outputs": [],
   "source": [
    "# Read data into memory\n",
    "\n",
    "data = pd.read_csv(\"car data.csv\")"
   ]
  },
  {
   "cell_type": "markdown",
   "id": "204daf41",
   "metadata": {},
   "source": [
    "## Exploratory data analysis"
   ]
  },
  {
   "cell_type": "code",
   "execution_count": 4,
   "id": "db171671",
   "metadata": {},
   "outputs": [
    {
     "data": {
      "text/html": [
       "<div>\n",
       "<style scoped>\n",
       "    .dataframe tbody tr th:only-of-type {\n",
       "        vertical-align: middle;\n",
       "    }\n",
       "\n",
       "    .dataframe tbody tr th {\n",
       "        vertical-align: top;\n",
       "    }\n",
       "\n",
       "    .dataframe thead th {\n",
       "        text-align: right;\n",
       "    }\n",
       "</style>\n",
       "<table border=\"1\" class=\"dataframe\">\n",
       "  <thead>\n",
       "    <tr style=\"text-align: right;\">\n",
       "      <th></th>\n",
       "      <th>Car_Name</th>\n",
       "      <th>Year</th>\n",
       "      <th>Selling_Price</th>\n",
       "      <th>Present_Price</th>\n",
       "      <th>Kms_Driven</th>\n",
       "      <th>Fuel_Type</th>\n",
       "      <th>Seller_Type</th>\n",
       "      <th>Transmission</th>\n",
       "      <th>Owner</th>\n",
       "    </tr>\n",
       "  </thead>\n",
       "  <tbody>\n",
       "    <tr>\n",
       "      <th>0</th>\n",
       "      <td>ritz</td>\n",
       "      <td>2014</td>\n",
       "      <td>3.35</td>\n",
       "      <td>5.59</td>\n",
       "      <td>27000</td>\n",
       "      <td>Petrol</td>\n",
       "      <td>Dealer</td>\n",
       "      <td>Manual</td>\n",
       "      <td>0</td>\n",
       "    </tr>\n",
       "    <tr>\n",
       "      <th>1</th>\n",
       "      <td>sx4</td>\n",
       "      <td>2013</td>\n",
       "      <td>4.75</td>\n",
       "      <td>9.54</td>\n",
       "      <td>43000</td>\n",
       "      <td>Diesel</td>\n",
       "      <td>Dealer</td>\n",
       "      <td>Manual</td>\n",
       "      <td>0</td>\n",
       "    </tr>\n",
       "    <tr>\n",
       "      <th>2</th>\n",
       "      <td>ciaz</td>\n",
       "      <td>2017</td>\n",
       "      <td>7.25</td>\n",
       "      <td>9.85</td>\n",
       "      <td>6900</td>\n",
       "      <td>Petrol</td>\n",
       "      <td>Dealer</td>\n",
       "      <td>Manual</td>\n",
       "      <td>0</td>\n",
       "    </tr>\n",
       "  </tbody>\n",
       "</table>\n",
       "</div>"
      ],
      "text/plain": [
       "  Car_Name  Year  Selling_Price  Present_Price  Kms_Driven Fuel_Type  \\\n",
       "0     ritz  2014           3.35           5.59       27000    Petrol   \n",
       "1      sx4  2013           4.75           9.54       43000    Diesel   \n",
       "2     ciaz  2017           7.25           9.85        6900    Petrol   \n",
       "\n",
       "  Seller_Type Transmission  Owner  \n",
       "0      Dealer       Manual      0  \n",
       "1      Dealer       Manual      0  \n",
       "2      Dealer       Manual      0  "
      ]
     },
     "execution_count": 4,
     "metadata": {},
     "output_type": "execute_result"
    }
   ],
   "source": [
    "data.head(3)"
   ]
  },
  {
   "cell_type": "code",
   "execution_count": 5,
   "id": "fda19d59",
   "metadata": {},
   "outputs": [
    {
     "data": {
      "text/plain": [
       "(301, 9)"
      ]
     },
     "execution_count": 5,
     "metadata": {},
     "output_type": "execute_result"
    }
   ],
   "source": [
    "# data dimensions\n",
    "\n",
    "data.shape"
   ]
  },
  {
   "cell_type": "code",
   "execution_count": 6,
   "id": "697b51fb",
   "metadata": {},
   "outputs": [
    {
     "data": {
      "text/plain": [
       "Car_Name         0\n",
       "Year             0\n",
       "Selling_Price    0\n",
       "Present_Price    0\n",
       "Kms_Driven       0\n",
       "Fuel_Type        0\n",
       "Seller_Type      0\n",
       "Transmission     0\n",
       "Owner            0\n",
       "dtype: int64"
      ]
     },
     "execution_count": 6,
     "metadata": {},
     "output_type": "execute_result"
    }
   ],
   "source": [
    "#Null values\n",
    "\n",
    "data.isna().sum()"
   ]
  },
  {
   "cell_type": "code",
   "execution_count": 7,
   "id": "8a6f06fc",
   "metadata": {},
   "outputs": [
    {
     "data": {
      "text/plain": [
       "Car_Name          98\n",
       "Year              16\n",
       "Selling_Price    156\n",
       "Present_Price    147\n",
       "Kms_Driven       206\n",
       "Fuel_Type          3\n",
       "Seller_Type        2\n",
       "Transmission       2\n",
       "Owner              3\n",
       "dtype: int64"
      ]
     },
     "execution_count": 7,
     "metadata": {},
     "output_type": "execute_result"
    }
   ],
   "source": [
    "# Unique values\n",
    "\n",
    "data.nunique()"
   ]
  },
  {
   "cell_type": "code",
   "execution_count": 8,
   "id": "e469e1ef",
   "metadata": {},
   "outputs": [],
   "source": [
    "# Removing Car_Name because of high cardinality\n",
    "\n",
    "data.drop('Car_Name', axis=1, inplace=True)"
   ]
  },
  {
   "cell_type": "code",
   "execution_count": 9,
   "id": "5bdd831a",
   "metadata": {},
   "outputs": [
    {
     "data": {
      "text/plain": [
       "Year               int64\n",
       "Selling_Price    float64\n",
       "Present_Price    float64\n",
       "Kms_Driven         int64\n",
       "Fuel_Type         object\n",
       "Seller_Type       object\n",
       "Transmission      object\n",
       "Owner              int64\n",
       "dtype: object"
      ]
     },
     "execution_count": 9,
     "metadata": {},
     "output_type": "execute_result"
    }
   ],
   "source": [
    "# data types\n",
    "\n",
    "data.dtypes"
   ]
  },
  {
   "cell_type": "code",
   "execution_count": 10,
   "id": "0b21150c",
   "metadata": {},
   "outputs": [
    {
     "name": "stdout",
     "output_type": "stream",
     "text": [
      "['Year', 'Selling_Price', 'Present_Price', 'Kms_Driven', 'Owner']\n"
     ]
    }
   ],
   "source": [
    "# Numerical features\n",
    "\n",
    "num_features = data.select_dtypes(include=np.number).columns.tolist()\n",
    "print(num_features)"
   ]
  },
  {
   "cell_type": "code",
   "execution_count": 11,
   "id": "3ffebd29",
   "metadata": {},
   "outputs": [
    {
     "name": "stdout",
     "output_type": "stream",
     "text": [
      "['Fuel_Type', 'Seller_Type', 'Transmission']\n"
     ]
    }
   ],
   "source": [
    "# Categorical features\n",
    "\n",
    "cat_features = data.select_dtypes(exclude=np.number).columns.tolist()\n",
    "print(cat_features)"
   ]
  },
  {
   "cell_type": "code",
   "execution_count": 12,
   "id": "11e319f7",
   "metadata": {},
   "outputs": [
    {
     "data": {
      "image/png": "[encoded data removed]",
      "text/plain": [
       "<Figure size 720x360 with 1 Axes>"
      ]
     },
     "metadata": {
      "needs_background": "light"
     },
     "output_type": "display_data"
    }
   ],
   "source": [
    "# Target distribution/ Selling price\n",
    "\n",
    "fig = plt.figure(figsize=(10, 5))\n",
    "sns.histplot(data=data, x='Selling_Price')\n",
    "plt.show()"
   ]
  },
  {
   "cell_type": "markdown",
   "id": "b8fa395a",
   "metadata": {},
   "source": [
    "### categorical variables"
   ]
  },
  {
   "cell_type": "code",
   "execution_count": 13,
   "id": "e91d396c",
   "metadata": {},
   "outputs": [
    {
     "data": {
      "image/png": "[encoded data removed]",
      "text/plain": [
       "<Figure size 720x576 with 4 Axes>"
      ]
     },
     "metadata": {
      "needs_background": "light"
     },
     "output_type": "display_data"
    }
   ],
   "source": [
    "# Pie charts\n",
    "\n",
    "fig, axes = plt.subplots(2,2, figsize=(10,8))\n",
    "axes = [ax for axes_row in axes for ax in axes_row]\n",
    "\n",
    "for i,c in enumerate(cat_features):\n",
    "    _ = data[c].value_counts().plot(kind='pie', ax=axes[i], title=c, autopct=\"%.0f\", fontsize=12)\n",
    "    _ = axes[i].set_ylabel('')\n",
    "_ = plt.tight_layout()"
   ]
  },
  {
   "cell_type": "code",
   "execution_count": 14,
   "id": "40c94cc2",
   "metadata": {},
   "outputs": [
    {
     "data": {
      "image/png": "[encoded data removed]",
      "text/plain": [
       "<Figure size 1152x576 with 4 Axes>"
      ]
     },
     "metadata": {
      "needs_background": "light"
     },
     "output_type": "display_data"
    }
   ],
   "source": [
    "# bar plots\n",
    "\n",
    "fig, axes = plt.subplots(2, 2, figsize=(16, 8))\n",
    "axes = [ax for axes_row in axes for ax in axes_row]\n",
    "\n",
    "for i, c in enumerate(cat_features):\n",
    "    _ = data[c].value_counts().plot(kind = 'barh', ax=axes[i], title=c, fontsize=14)\n",
    "    \n",
    "_ = plt.tight_layout()"
   ]
  },
  {
   "cell_type": "markdown",
   "id": "d7cea060",
   "metadata": {},
   "source": [
    "### Numerical features"
   ]
  },
  {
   "cell_type": "code",
   "execution_count": 15,
   "id": "564c0e8a",
   "metadata": {},
   "outputs": [
    {
     "data": {
      "image/png": "[encoded data removed]",
      "text/plain": [
       "<Figure size 576x1080 with 5 Axes>"
      ]
     },
     "metadata": {
      "needs_background": "light"
     },
     "output_type": "display_data"
    }
   ],
   "source": [
    "# Box plots\n",
    "\n",
    "fig, axes = plt.subplots(5, 1, figsize=(8, 15))\n",
    "for i, c in enumerate(num_features):\n",
    "    _ = data[[c]].boxplot(ax=axes[i], vert=False)"
   ]
  },
  {
   "cell_type": "code",
   "execution_count": 16,
   "id": "d2b3ed48",
   "metadata": {},
   "outputs": [
    {
     "data": {
      "image/png": "[encoded data removed]",
      "text/plain": [
       "<Figure size 576x1080 with 5 Axes>"
      ]
     },
     "metadata": {
      "needs_background": "light"
     },
     "output_type": "display_data"
    }
   ],
   "source": [
    "# Density plots\n",
    "\n",
    "fig, axes = plt.subplots(5, 1, figsize=(8, 15))\n",
    "for i, c in enumerate(num_features):\n",
    "    plot = sns.kdeplot(data=data, x=c, ax=axes[i], fill=True)\n",
    "plt.tight_layout()"
   ]
  },
  {
   "cell_type": "code",
   "execution_count": 17,
   "id": "0deb7da4",
   "metadata": {},
   "outputs": [
    {
     "data": {
      "image/png": "[encoded data removed]",
      "text/plain": [
       "<Figure size 720x1080 with 6 Axes>"
      ]
     },
     "metadata": {
      "needs_background": "light"
     },
     "output_type": "display_data"
    }
   ],
   "source": [
    "# Scatter plot\n",
    "\n",
    "fig, axes = plt.subplots(3, 2, figsize=(10, 15))\n",
    "axes = [ax for axes_row in axes for ax in axes_row]\n",
    "\n",
    "for i, c in enumerate(num_features):\n",
    "    f = sns.scatterplot(data=data, x=c, y='Selling_Price', ax=axes[i]) \n",
    "    \n",
    "_ = plt.tight_layout()"
   ]
  },
  {
   "cell_type": "markdown",
   "id": "8260d1f3",
   "metadata": {},
   "source": [
    "## Feature engineering"
   ]
  },
  {
   "cell_type": "code",
   "execution_count": 18,
   "id": "7fdc4607",
   "metadata": {},
   "outputs": [
    {
     "data": {
      "text/html": [
       "<div>\n",
       "<style scoped>\n",
       "    .dataframe tbody tr th:only-of-type {\n",
       "        vertical-align: middle;\n",
       "    }\n",
       "\n",
       "    .dataframe tbody tr th {\n",
       "        vertical-align: top;\n",
       "    }\n",
       "\n",
       "    .dataframe thead th {\n",
       "        text-align: right;\n",
       "    }\n",
       "</style>\n",
       "<table border=\"1\" class=\"dataframe\">\n",
       "  <thead>\n",
       "    <tr style=\"text-align: right;\">\n",
       "      <th></th>\n",
       "      <th>Year</th>\n",
       "      <th>Selling_Price</th>\n",
       "      <th>Present_Price</th>\n",
       "      <th>Kms_Driven</th>\n",
       "      <th>Fuel_Type</th>\n",
       "      <th>Seller_Type</th>\n",
       "      <th>Transmission</th>\n",
       "      <th>Owner</th>\n",
       "    </tr>\n",
       "  </thead>\n",
       "  <tbody>\n",
       "    <tr>\n",
       "      <th>0</th>\n",
       "      <td>2014</td>\n",
       "      <td>3.35</td>\n",
       "      <td>5.59</td>\n",
       "      <td>27000</td>\n",
       "      <td>Petrol</td>\n",
       "      <td>Dealer</td>\n",
       "      <td>Manual</td>\n",
       "      <td>0</td>\n",
       "    </tr>\n",
       "    <tr>\n",
       "      <th>1</th>\n",
       "      <td>2013</td>\n",
       "      <td>4.75</td>\n",
       "      <td>9.54</td>\n",
       "      <td>43000</td>\n",
       "      <td>Diesel</td>\n",
       "      <td>Dealer</td>\n",
       "      <td>Manual</td>\n",
       "      <td>0</td>\n",
       "    </tr>\n",
       "    <tr>\n",
       "      <th>2</th>\n",
       "      <td>2017</td>\n",
       "      <td>7.25</td>\n",
       "      <td>9.85</td>\n",
       "      <td>6900</td>\n",
       "      <td>Petrol</td>\n",
       "      <td>Dealer</td>\n",
       "      <td>Manual</td>\n",
       "      <td>0</td>\n",
       "    </tr>\n",
       "  </tbody>\n",
       "</table>\n",
       "</div>"
      ],
      "text/plain": [
       "   Year  Selling_Price  Present_Price  Kms_Driven Fuel_Type Seller_Type  \\\n",
       "0  2014           3.35           5.59       27000    Petrol      Dealer   \n",
       "1  2013           4.75           9.54       43000    Diesel      Dealer   \n",
       "2  2017           7.25           9.85        6900    Petrol      Dealer   \n",
       "\n",
       "  Transmission  Owner  \n",
       "0       Manual      0  \n",
       "1       Manual      0  \n",
       "2       Manual      0  "
      ]
     },
     "execution_count": 18,
     "metadata": {},
     "output_type": "execute_result"
    }
   ],
   "source": [
    "data.head(3)"
   ]
  },
  {
   "cell_type": "code",
   "execution_count": 19,
   "id": "8384b12e",
   "metadata": {},
   "outputs": [],
   "source": [
    "X = data.drop('Selling_Price', axis=1)\n",
    "y = data.Selling_Price"
   ]
  },
  {
   "cell_type": "code",
   "execution_count": 20,
   "id": "b9cb5dd8",
   "metadata": {},
   "outputs": [],
   "source": [
    "pipe = Pipeline(steps=[\n",
    "    (\"attribute adder\", AtributeAdder()),\n",
    "    \n",
    "    ('one hot encoder', OneHotEncoder(variables=cat_features)),\n",
    "    \n",
    "    ('min max scaler', SklearnTransformerWrapper( variables = ['Kms_Driven'],\n",
    "                                                 transformer=MinMaxScaler(feature_range=(0, 100) ) ) )\n",
    "    \n",
    "])"
   ]
  },
  {
   "cell_type": "code",
   "execution_count": 21,
   "id": "5c2a46f6",
   "metadata": {},
   "outputs": [
    {
     "data": {
      "text/plain": [
       "Pipeline(steps=[('attribute adder', AtributeAdder()),\n",
       "                ('one hot encoder',\n",
       "                 OneHotEncoder(variables=['Fuel_Type', 'Seller_Type',\n",
       "                                          'Transmission'])),\n",
       "                ('min max scaler',\n",
       "                 SklearnTransformerWrapper(transformer=MinMaxScaler(feature_range=(0,\n",
       "                                                                                   100)),\n",
       "                                           variables=['Kms_Driven']))])"
      ]
     },
     "execution_count": 21,
     "metadata": {},
     "output_type": "execute_result"
    }
   ],
   "source": [
    "pipe.fit(X)"
   ]
  },
  {
   "cell_type": "code",
   "execution_count": 22,
   "id": "4c91f19c",
   "metadata": {},
   "outputs": [],
   "source": [
    "prepared_X = pipe.transform(X)"
   ]
  },
  {
   "cell_type": "code",
   "execution_count": 23,
   "id": "a99ef337",
   "metadata": {},
   "outputs": [
    {
     "data": {
      "text/html": [
       "<div>\n",
       "<style scoped>\n",
       "    .dataframe tbody tr th:only-of-type {\n",
       "        vertical-align: middle;\n",
       "    }\n",
       "\n",
       "    .dataframe tbody tr th {\n",
       "        vertical-align: top;\n",
       "    }\n",
       "\n",
       "    .dataframe thead th {\n",
       "        text-align: right;\n",
       "    }\n",
       "</style>\n",
       "<table border=\"1\" class=\"dataframe\">\n",
       "  <thead>\n",
       "    <tr style=\"text-align: right;\">\n",
       "      <th></th>\n",
       "      <th>Present_Price</th>\n",
       "      <th>Kms_Driven</th>\n",
       "      <th>Owner</th>\n",
       "      <th>No_of_Yrs</th>\n",
       "      <th>Fuel_Type_Petrol</th>\n",
       "      <th>Fuel_Type_Diesel</th>\n",
       "      <th>Fuel_Type_CNG</th>\n",
       "      <th>Seller_Type_Dealer</th>\n",
       "      <th>Seller_Type_Individual</th>\n",
       "      <th>Transmission_Manual</th>\n",
       "      <th>Transmission_Automatic</th>\n",
       "    </tr>\n",
       "  </thead>\n",
       "  <tbody>\n",
       "    <tr>\n",
       "      <th>0</th>\n",
       "      <td>5.59</td>\n",
       "      <td>5.305305</td>\n",
       "      <td>0</td>\n",
       "      <td>7</td>\n",
       "      <td>1</td>\n",
       "      <td>0</td>\n",
       "      <td>0</td>\n",
       "      <td>1</td>\n",
       "      <td>0</td>\n",
       "      <td>1</td>\n",
       "      <td>0</td>\n",
       "    </tr>\n",
       "    <tr>\n",
       "      <th>1</th>\n",
       "      <td>9.54</td>\n",
       "      <td>8.508509</td>\n",
       "      <td>0</td>\n",
       "      <td>8</td>\n",
       "      <td>0</td>\n",
       "      <td>1</td>\n",
       "      <td>0</td>\n",
       "      <td>1</td>\n",
       "      <td>0</td>\n",
       "      <td>1</td>\n",
       "      <td>0</td>\n",
       "    </tr>\n",
       "    <tr>\n",
       "      <th>2</th>\n",
       "      <td>9.85</td>\n",
       "      <td>1.281281</td>\n",
       "      <td>0</td>\n",
       "      <td>4</td>\n",
       "      <td>1</td>\n",
       "      <td>0</td>\n",
       "      <td>0</td>\n",
       "      <td>1</td>\n",
       "      <td>0</td>\n",
       "      <td>1</td>\n",
       "      <td>0</td>\n",
       "    </tr>\n",
       "    <tr>\n",
       "      <th>3</th>\n",
       "      <td>4.15</td>\n",
       "      <td>0.940941</td>\n",
       "      <td>0</td>\n",
       "      <td>10</td>\n",
       "      <td>1</td>\n",
       "      <td>0</td>\n",
       "      <td>0</td>\n",
       "      <td>1</td>\n",
       "      <td>0</td>\n",
       "      <td>1</td>\n",
       "      <td>0</td>\n",
       "    </tr>\n",
       "    <tr>\n",
       "      <th>4</th>\n",
       "      <td>6.87</td>\n",
       "      <td>8.398398</td>\n",
       "      <td>0</td>\n",
       "      <td>7</td>\n",
       "      <td>0</td>\n",
       "      <td>1</td>\n",
       "      <td>0</td>\n",
       "      <td>1</td>\n",
       "      <td>0</td>\n",
       "      <td>1</td>\n",
       "      <td>0</td>\n",
       "    </tr>\n",
       "  </tbody>\n",
       "</table>\n",
       "</div>"
      ],
      "text/plain": [
       "   Present_Price  Kms_Driven  Owner  No_of_Yrs  Fuel_Type_Petrol  \\\n",
       "0           5.59    5.305305      0          7                 1   \n",
       "1           9.54    8.508509      0          8                 0   \n",
       "2           9.85    1.281281      0          4                 1   \n",
       "3           4.15    0.940941      0         10                 1   \n",
       "4           6.87    8.398398      0          7                 0   \n",
       "\n",
       "   Fuel_Type_Diesel  Fuel_Type_CNG  Seller_Type_Dealer  \\\n",
       "0                 0              0                   1   \n",
       "1                 1              0                   1   \n",
       "2                 0              0                   1   \n",
       "3                 0              0                   1   \n",
       "4                 1              0                   1   \n",
       "\n",
       "   Seller_Type_Individual  Transmission_Manual  Transmission_Automatic  \n",
       "0                       0                    1                       0  \n",
       "1                       0                    1                       0  \n",
       "2                       0                    1                       0  \n",
       "3                       0                    1                       0  \n",
       "4                       0                    1                       0  "
      ]
     },
     "execution_count": 23,
     "metadata": {},
     "output_type": "execute_result"
    }
   ],
   "source": [
    "prepared_X.head()"
   ]
  },
  {
   "cell_type": "markdown",
   "id": "9e589698",
   "metadata": {},
   "source": [
    "## Feature selection"
   ]
  },
  {
   "cell_type": "code",
   "execution_count": 24,
   "id": "5099bfd6",
   "metadata": {},
   "outputs": [
    {
     "data": {
      "text/plain": [
       "ExtraTreesRegressor(random_state=1)"
      ]
     },
     "execution_count": 24,
     "metadata": {},
     "output_type": "execute_result"
    }
   ],
   "source": [
    "# Embedding method\n",
    "\n",
    "model = ExtraTreesRegressor(random_state=1)\n",
    "model.fit(prepared_X, y)"
   ]
  },
  {
   "cell_type": "code",
   "execution_count": 25,
   "id": "2f982ab8",
   "metadata": {},
   "outputs": [
    {
     "data": {
      "image/png": "[encoded data removed]",
      "text/plain": [
       "<Figure size 432x288 with 1 Axes>"
      ]
     },
     "metadata": {
      "needs_background": "light"
     },
     "output_type": "display_data"
    }
   ],
   "source": [
    "#feature importances\n",
    "\n",
    "feat_importances = pd.Series(model.feature_importances_, index=prepared_X.columns)\n",
    "feat_importances.sort_values().plot(kind='barh')\n",
    "plt.show()"
   ]
  },
  {
   "cell_type": "markdown",
   "id": "10076821",
   "metadata": {},
   "source": [
    "Note : Since we only have few features, I have selected all the features for modelling."
   ]
  },
  {
   "cell_type": "code",
   "execution_count": 26,
   "id": "1173a4ab",
   "metadata": {},
   "outputs": [],
   "source": [
    "# Split data into train and test\n",
    "X_train, X_test, y_train, y_test = train_test_split(prepared_X, y, test_size=0.20, random_state = 1)"
   ]
  },
  {
   "cell_type": "markdown",
   "id": "709112af",
   "metadata": {},
   "source": [
    "# Machine learning"
   ]
  },
  {
   "cell_type": "markdown",
   "id": "3bdd7003",
   "metadata": {},
   "source": [
    "## Base model : Decision tree"
   ]
  },
  {
   "cell_type": "code",
   "execution_count": 27,
   "id": "7b2a8b8d",
   "metadata": {},
   "outputs": [
    {
     "name": "stdout",
     "output_type": "stream",
     "text": [
      "Rmse for base DT model: 1.1201405064090668\n"
     ]
    }
   ],
   "source": [
    "# DT regressor\n",
    "rmse = get_scores(DecisionTreeRegressor(random_state=1), X_train, X_test, y_train, y_test)\n",
    "print(\"Rmse for base DT model:\", rmse)"
   ]
  },
  {
   "cell_type": "code",
   "execution_count": 28,
   "id": "95a12193",
   "metadata": {},
   "outputs": [
    {
     "data": {
      "text/plain": [
       "RandomizedSearchCV(cv=3, estimator=DecisionTreeRegressor(random_state=1),\n",
       "                   n_iter=20,\n",
       "                   param_distributions={'criterion': ['mse', 'friedman_mse',\n",
       "                                                      'mae', 'poisson'],\n",
       "                                        'max_depth': [4, 6, 8, 10, 12, 14, 16],\n",
       "                                        'max_features': [0.2, 0.4, 0.6, 0.8, 1],\n",
       "                                        'max_leaf_nodes': [8, 16, 32, 64, 128,\n",
       "                                                           256],\n",
       "                                        'min_samples_split': [2, 10, 20, 30,\n",
       "                                                              40]},\n",
       "                   random_state=1, scoring='neg_mean_squared_error')"
      ]
     },
     "execution_count": 28,
     "metadata": {},
     "output_type": "execute_result"
    }
   ],
   "source": [
    "# Hyperparameter tuning\n",
    "\n",
    "hyperparam_combs = {\n",
    "    'max_depth': [4, 6, 8, 10, 12, 14, 16],\n",
    "    'criterion': [\"mse\", \"friedman_mse\", \"mae\", \"poisson\"],\n",
    "    'min_samples_split': [2, 10, 20, 30, 40],\n",
    "    'max_features': [0.2, 0.4, 0.6, 0.8, 1],\n",
    "    'max_leaf_nodes': [8, 16, 32, 64, 128,256]\n",
    "}\n",
    "\n",
    "search = RandomizedSearchCV(DecisionTreeRegressor(random_state=1),\n",
    "                         hyperparam_combs,\n",
    "                         scoring='neg_mean_squared_error',\n",
    "                         random_state=1,\n",
    "                         n_iter=20,\n",
    "                         cv=3)\n",
    "\n",
    "search.fit(X_train, y_train)"
   ]
  },
  {
   "cell_type": "code",
   "execution_count": 29,
   "id": "d76bb052",
   "metadata": {},
   "outputs": [
    {
     "data": {
      "text/plain": [
       "{'min_samples_split': 2,\n",
       " 'max_leaf_nodes': 256,\n",
       " 'max_features': 0.6,\n",
       " 'max_depth': 6,\n",
       " 'criterion': 'mse'}"
      ]
     },
     "execution_count": 29,
     "metadata": {},
     "output_type": "execute_result"
    }
   ],
   "source": [
    "search.best_params_"
   ]
  },
  {
   "cell_type": "code",
   "execution_count": 30,
   "id": "163976ba",
   "metadata": {},
   "outputs": [
    {
     "data": {
      "text/plain": [
       "1.9840824832379464"
      ]
     },
     "execution_count": 30,
     "metadata": {},
     "output_type": "execute_result"
    }
   ],
   "source": [
    "# Best DT model\n",
    "model = DecisionTreeRegressor(random_state=1, **search.best_params_)\n",
    "get_scores(model, X_train, X_test, y_train, y_test)"
   ]
  },
  {
   "cell_type": "markdown",
   "id": "b7e88bbb",
   "metadata": {},
   "source": [
    "## K-Fold cross validation"
   ]
  },
  {
   "cell_type": "code",
   "execution_count": 31,
   "id": "01c2f980",
   "metadata": {},
   "outputs": [
    {
     "name": "stdout",
     "output_type": "stream",
     "text": [
      "\n",
      "------------- Fold 1 -------------\n",
      "\n",
      "RMSE for validation set is 1.2482061616540172\n",
      "\n",
      "------------- Fold 2 -------------\n",
      "\n",
      "RMSE for validation set is 2.4169963251802082\n",
      "\n",
      "------------- Fold 3 -------------\n",
      "\n",
      "RMSE for validation set is 2.624256147308826\n",
      "\n",
      "------------- Fold 4 -------------\n",
      "\n",
      "RMSE for validation set is 1.4091141184332487\n",
      "\n",
      "------------- Fold 5 -------------\n",
      "\n",
      "RMSE for validation set is 3.513022135076599\n",
      "\n",
      "Mean Rmse : 2.2423189775305796\n"
     ]
    }
   ],
   "source": [
    "run_clf_kfold(model, X_train, y_train, k=5)"
   ]
  },
  {
   "cell_type": "markdown",
   "id": "aa59f67b",
   "metadata": {},
   "source": [
    "## Random forest model\n"
   ]
  },
  {
   "cell_type": "code",
   "execution_count": 32,
   "id": "7d89b6e6",
   "metadata": {},
   "outputs": [
    {
     "name": "stdout",
     "output_type": "stream",
     "text": [
      "Rmse for RF model: 1.5895049873838185\n"
     ]
    }
   ],
   "source": [
    "# RF regressor\n",
    "rmse = get_scores(RandomForestRegressor(random_state=1), X_train, X_test, y_train, y_test)\n",
    "print(\"Rmse for RF model:\", rmse)"
   ]
  },
  {
   "cell_type": "code",
   "execution_count": 33,
   "id": "b0a0289b",
   "metadata": {},
   "outputs": [
    {
     "name": "stdout",
     "output_type": "stream",
     "text": [
      "Fitting 3 folds for each of 10 candidates, totalling 30 fits\n"
     ]
    },
    {
     "data": {
      "text/plain": [
       "RandomizedSearchCV(cv=3, estimator=RandomForestRegressor(random_state=1),\n",
       "                   param_distributions={'max_depth': [1, 6, 12, 18, 24, 30],\n",
       "                                        'max_features': ['auto', 'sqrt'],\n",
       "                                        'min_samples_leaf': [1, 2, 5, 10],\n",
       "                                        'min_samples_split': [2, 5, 10, 15],\n",
       "                                        'n_estimators': [50, 136, 222, 309, 395,\n",
       "                                                         481, 568, 654, 740,\n",
       "                                                         827, 913, 1000]},\n",
       "                   random_state=1, scoring='neg_mean_squared_error', verbose=1)"
      ]
     },
     "execution_count": 33,
     "metadata": {},
     "output_type": "execute_result"
    }
   ],
   "source": [
    "# Hyperparameter tuning\n",
    "\n",
    "random_grid = {'n_estimators': [int(x) for x in np.linspace(start = 50, stop = 1000, num = 12)],\n",
    "               'max_features': ['auto', 'sqrt'],\n",
    "               'max_depth': [int(x) for x in np.linspace(1, 30, num = 6)],\n",
    "               'min_samples_split': [2, 5, 10, 15],\n",
    "               'min_samples_leaf': [1, 2, 5, 10]}\n",
    "\n",
    "\n",
    "search = RandomizedSearchCV(RandomForestRegressor(random_state=1),\n",
    "                         random_grid,\n",
    "                         scoring='neg_mean_squared_error',\n",
    "                         random_state=1,\n",
    "                         n_iter=10,\n",
    "                         cv=3,\n",
    "                         verbose=1)\n",
    "\n",
    "search.fit(X_train, y_train)"
   ]
  },
  {
   "cell_type": "code",
   "execution_count": 34,
   "id": "f7140339",
   "metadata": {},
   "outputs": [
    {
     "data": {
      "text/plain": [
       "{'n_estimators': 222,\n",
       " 'min_samples_split': 2,\n",
       " 'min_samples_leaf': 2,\n",
       " 'max_features': 'auto',\n",
       " 'max_depth': 18}"
      ]
     },
     "execution_count": 34,
     "metadata": {},
     "output_type": "execute_result"
    }
   ],
   "source": [
    "search.best_params_"
   ]
  },
  {
   "cell_type": "code",
   "execution_count": 35,
   "id": "be67805f",
   "metadata": {},
   "outputs": [
    {
     "data": {
      "text/plain": [
       "1.867189280575611"
      ]
     },
     "execution_count": 35,
     "metadata": {},
     "output_type": "execute_result"
    }
   ],
   "source": [
    "# Best RF model\n",
    "best_model = RandomForestRegressor(random_state=1, **search.best_params_)\n",
    "get_scores(best_model, X_train, X_test, y_train, y_test)"
   ]
  },
  {
   "cell_type": "markdown",
   "id": "4809e96d",
   "metadata": {},
   "source": [
    "## K-fold cross validation"
   ]
  },
  {
   "cell_type": "code",
   "execution_count": 40,
   "id": "7b16a360",
   "metadata": {},
   "outputs": [
    {
     "name": "stdout",
     "output_type": "stream",
     "text": [
      "\n",
      "------------- Fold 1 -------------\n",
      "\n",
      "RMSE for validation set is 1.1306522491934035\n",
      "\n",
      "------------- Fold 2 -------------\n",
      "\n",
      "RMSE for validation set is 0.9809173086782472\n",
      "\n",
      "------------- Fold 3 -------------\n",
      "\n",
      "RMSE for validation set is 1.8614416182969773\n",
      "\n",
      "------------- Fold 4 -------------\n",
      "\n",
      "RMSE for validation set is 0.9289170537917607\n",
      "\n",
      "------------- Fold 5 -------------\n",
      "\n",
      "RMSE for validation set is 3.453483097823477\n",
      "\n",
      "Mean Rmse : 1.6710822655567732\n"
     ]
    }
   ],
   "source": [
    "run_clf_kfold(best_model, X_train, y_train, k=5)"
   ]
  },
  {
   "cell_type": "markdown",
   "id": "0f0d7251",
   "metadata": {},
   "source": [
    "# Evaluate the best model"
   ]
  },
  {
   "cell_type": "code",
   "execution_count": 37,
   "id": "de197a35",
   "metadata": {},
   "outputs": [
    {
     "data": {
      "image/png": "[encoded data removed]",
      "text/plain": [
       "<Figure size 432x288 with 1 Axes>"
      ]
     },
     "metadata": {
      "needs_background": "light"
     },
     "output_type": "display_data"
    }
   ],
   "source": [
    "best_model.fit(X_train, y_train)\n",
    "\n",
    "predictions=best_model.predict(X_test)\n",
    "\n",
    "#distribution of errors\n",
    "sns.distplot(y_test-predictions)\n",
    "plt.show()"
   ]
  },
  {
   "cell_type": "code",
   "execution_count": 38,
   "id": "ed33a41e",
   "metadata": {},
   "outputs": [
    {
     "data": {
      "image/png": "[encoded data removed]",
      "text/plain": [
       "<Figure size 432x288 with 1 Axes>"
      ]
     },
     "metadata": {
      "needs_background": "light"
     },
     "output_type": "display_data"
    }
   ],
   "source": [
    "# scatter plot\n",
    "\n",
    "sns.scatterplot(x=y_test, y=predictions)\n",
    "plt.show()"
   ]
  },
  {
   "cell_type": "code",
   "execution_count": 39,
   "id": "f929e5a6",
   "metadata": {},
   "outputs": [
    {
     "name": "stdout",
     "output_type": "stream",
     "text": [
      "MAE: 0.7969973452268523\n",
      "MSE: 3.486395809496468\n",
      "RMSE: 1.867189280575611\n"
     ]
    }
   ],
   "source": [
    "print('MAE:', mean_absolute_error(y_test, predictions))\n",
    "print('MSE:', mean_squared_error(y_test, predictions))\n",
    "print('RMSE:', np.sqrt(mean_squared_error(y_test, predictions)))"
   ]
  },
  {
   "cell_type": "markdown",
   "id": "34233e7b",
   "metadata": {},
   "source": [
    "## Save the model and preprocessing pipeline"
   ]
  },
  {
   "cell_type": "code",
   "execution_count": 48,
   "id": "017ccb20",
   "metadata": {},
   "outputs": [],
   "source": [
    "with open(\"pipe.pkl\", 'wb') as f:\n",
    "    pickle.dump(pipe, f)\n",
    "\n",
    "with open(\"best_model.pkl\", 'wb') as f:\n",
    "    pickle.dump(best_model, f)"
   ]
  },
  {
   "cell_type": "code",
   "execution_count": null,
   "id": "14da749c",
   "metadata": {},
   "outputs": [],
   "source": [
    "#####################Checking pickle files##############################"
   ]
  },
  {
   "cell_type": "code",
   "execution_count": 50,
   "id": "f94a59d0",
   "metadata": {},
   "outputs": [],
   "source": [
    "with open(\"pipe.pkl\", 'rb') as f:\n",
    "    pipe = pickle.load(f)\n",
    "\n",
    "with open(\"best_model.pkl\", 'rb') as f:\n",
    "    model = pickle.load(f)"
   ]
  },
  {
   "cell_type": "code",
   "execution_count": 64,
   "id": "6e055728",
   "metadata": {},
   "outputs": [],
   "source": [
    "def predict(ex):\n",
    "    columns = ['Year','Present_Price','Kms_Driven','Fuel_Type','Seller_Type', 'Transmission','Owner']\n",
    "    df = pd.DataFrame([ex], columns=columns)\n",
    "    x = pipe.transform(df)\n",
    "    y = model.predict(x)\n",
    "    return round(y[0],2)"
   ]
  },
  {
   "cell_type": "code",
   "execution_count": 72,
   "id": "109fc54a",
   "metadata": {},
   "outputs": [
    {
     "data": {
      "text/plain": [
       "6.86"
      ]
     },
     "execution_count": 72,
     "metadata": {},
     "output_type": "execute_result"
    }
   ],
   "source": [
    "ex = [2016, 10.59, 27000, 'Petrol', 'Dealer', 'Manual', 0 ]\n",
    "predict(ex)"
   ]
  },
  {
   "cell_type": "code",
   "execution_count": null,
   "id": "ebd26fcd",
   "metadata": {},
   "outputs": [],
   "source": []
  },
  {
   "cell_type": "code",
   "execution_count": null,
   "id": "f6816db0",
   "metadata": {},
   "outputs": [],
   "source": []
  }
 ],
 "metadata": {
  "kernelspec": {
   "display_name": "Python 3",
   "language": "python",
   "name": "python3"
  },
  "language_info": {
   "codemirror_mode": {
    "name": "ipython",
    "version": 3
   },
   "file_extension": ".py",
   "mimetype": "text/x-python",
   "name": "python",
   "nbconvert_exporter": "python",
   "pygments_lexer": "ipython3",
   "version": "3.7.9"
  }
 },
 "nbformat": 4,
 "nbformat_minor": 5
}
